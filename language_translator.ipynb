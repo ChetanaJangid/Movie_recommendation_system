{
 "cells": [
  {
   "cell_type": "code",
   "execution_count": 1,
   "id": "2d396973",
   "metadata": {},
   "outputs": [],
   "source": [
    "from tkinter import Tk, Label, Text, Button, END\n",
    "from tkinter import ttk\n",
    "from googletrans import Translator, LANGUAGES"
   ]
  },
  {
   "cell_type": "code",
   "execution_count": 2,
   "id": "bdffbd87",
   "metadata": {},
   "outputs": [],
   "source": [
    "# Create the main window\n",
    "root = Tk()\n",
    "root.geometry('1100x320')  \n",
    "root.resizable(0, 0)\n",
    "root['bg'] = 'skyblue'\n",
    "\n",
    "root.title('Language Translator')\n",
    "# Main title label\n",
    "Label(root, text=\"Language Translator\", font=\"Arial 20 bold\", bg='skyblue').pack()\n"
   ]
  },
  {
   "cell_type": "code",
   "execution_count": 3,
   "id": "29928e90",
   "metadata": {},
   "outputs": [],
   "source": [
    "# New label to enter text\n",
    "Label(root, text=\"Enter text\", font='Arial 13 bold', bg='white smoke').place(x=165, y=90)\n",
    "\n",
    "# Text widget for input\n",
    "Input_text = Text(root, font='arial 10', height=1, wrap='word', padx=5, pady=5, width=50)\n",
    "Input_text.place(x=35, y=130)\n"
   ]
  },
  {
   "cell_type": "code",
   "execution_count": 4,
   "id": "7d76ccfc",
   "metadata": {},
   "outputs": [],
   "source": [
    "# Label for output\n",
    "Label(root, text=\"Output\", font='arial 13 bold', bg='white smoke').place(x=780, y=90)\n",
    "\n",
    "# Text widget for output\n",
    "Output_text = Text(root, font='arial 10', height=5, wrap='word', padx=5, pady=5, width=50)\n",
    "Output_text.place(x=625, y=130)\n"
   ]
  },
  {
   "cell_type": "code",
   "execution_count": 5,
   "id": "f2f709df",
   "metadata": {},
   "outputs": [],
   "source": [
    "# Dropdown for language selection\n",
    "language = list(LANGUAGES.values())\n",
    "\n",
    "dest_lang = ttk.Combobox(root, values=language, width=22)\n",
    "dest_lang.place(x=130, y=180)\n",
    "dest_lang.set('Choose language')\n",
    "\n",
    "def translate():\n",
    "    translator = Translator()\n",
    "    translated = translator.translate(text=Input_text.get(\"1.0\", END), dest=dest_lang.get())\n",
    "    Output_text.delete(1.0, END)\n",
    "    Output_text.insert(END, translated.text)\n",
    "\n",
    "# Translate button\n",
    "trans_btn = Button(root, text='Translate', font='arial 12 bold', pady=5, command=translate, bg='orange', activebackground='green')\n",
    "trans_btn.place(x=445, y=180)\n",
    "\n",
    "root.mainloop()"
   ]
  },
  {
   "cell_type": "code",
   "execution_count": null,
   "id": "43a617a5",
   "metadata": {},
   "outputs": [],
   "source": []
  }
 ],
 "metadata": {
  "kernelspec": {
   "display_name": "Python 3 (ipykernel)",
   "language": "python",
   "name": "python3"
  },
  "language_info": {
   "codemirror_mode": {
    "name": "ipython",
    "version": 3
   },
   "file_extension": ".py",
   "mimetype": "text/x-python",
   "name": "python",
   "nbconvert_exporter": "python",
   "pygments_lexer": "ipython3",
   "version": "3.11.3"
  }
 },
 "nbformat": 4,
 "nbformat_minor": 5
}
